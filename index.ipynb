{
 "cells": [
  {
   "cell_type": "markdown",
   "metadata": {},
   "source": [
    "# Data Cleaning Using Collections - Lab\n",
    "\n",
    "\n",
    "## Introduction\n",
    "In the last lesson we learned how to iterate over collections. In this one, we'll get some hands on practice applying different transformations to data sets. \n",
    "\n",
    "*Remember that this is a lab, so you need to work locally (fork, clone, cd into the directory, run `jupyter notebook`, open the `index.ipynb` file in the browser).*\n",
    "\n",
    "## Objectives\n",
    "You will be able to:\n",
    "* Iterate over common Python collection types\n",
    "* Use list comprehensions to clean up lists\n",
    "* Create and iterate over collections of collections\n",
    "\n",
    "Let's start by setting you up with some data to work with. Make sure to run the cell below so that the variables are declared and available to you in your code:"
   ]
  },
  {
   "cell_type": "code",
   "execution_count": null,
   "metadata": {},
   "outputs": [],
   "source": [
    "company_1 = {\n",
    "    \"company_name\": \"Acme\",\n",
    "    \"state_incorporated\": \"Alabama\"    \n",
    "}\n",
    "company_2 = {\n",
    "    \"company_name\": \"Deville\",\n",
    "    \"state_incorporated\": \"California\"    \n",
    "}\n",
    "company_3 = {\n",
    "    \"company_name\": \"Goldwater\",\n",
    "    \"state_incorporated\": \"New York\"    \n",
    "}\n",
    "company_4 = {\n",
    "    \"company_name\": \"Adolfo\",\n",
    "    \"state_incorporated\": \"New York\"    \n",
    "}\n",
    "company_5 = {\n",
    "    \"company_name\": \"Ideo\",\n",
    "    \"state_incorporated\": \"Delaware\"    \n",
    "}\n",
    "company_6 = {\n",
    "    \"company_name\": \"Jimmys\",\n",
    "    \"state_incorporated\": \"California\"    \n",
    "}\n",
    "company_list = [company_1, company_2, company_3, company_4, company_5, company_6]\n",
    "print(company_list)\n"
   ]
  },
  {
   "cell_type": "markdown",
   "metadata": {},
   "source": [
    "## Tasks\n",
    "\n",
    "For each of the following tasks, create a new cell (`Insert - Insert Cell Below`) and then write the code to solve the problem:\n",
    "You should know how to do these ones (try to complete all of these):\n",
    "1. Create a List of all of the company names\n",
    "2. Create a List of all of the states of incorporation\n",
    "3. Create a Set containing a deduped list of the states of incorporation\n",
    "4. Create a list of all of the company names for companies incorporated in New York\n",
    "5. Create a list of all of the company names for companies *not* incorporated in California\n",
    "\n",
    "These will require a little more Googling/research (just do as many as you can):\n",
    "6. Create a List of all of the company names in alphabetical order\n",
    "7. Create a List containing a deduped list of the states of incorporation in alphabetical order\n",
    "8. Create a List containing a deduped list of the states of incorporation in alphabetical order for companies with a company name starting with the letter A\n"
   ]
  },
  {
   "cell_type": "markdown",
   "metadata": {},
   "source": [
    "## Summary\n",
    "\n",
    "Congratulations! You got a whole bunch of practice iterating over collections and retrieving data from them!"
   ]
  }
 ],
 "metadata": {
  "kernelspec": {
   "display_name": "Python 3",
   "language": "python",
   "name": "python3"
  },
  "language_info": {
   "codemirror_mode": {
    "name": "ipython",
    "version": 3
   },
   "file_extension": ".py",
   "mimetype": "text/x-python",
   "name": "python",
   "nbconvert_exporter": "python",
   "pygments_lexer": "ipython3",
   "version": "3.6.6"
  }
 },
 "nbformat": 4,
 "nbformat_minor": 2
}
